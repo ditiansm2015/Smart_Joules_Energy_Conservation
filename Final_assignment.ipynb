{
  "nbformat": 4,
  "nbformat_minor": 0,
  "metadata": {
    "colab": {
      "name": "Untitled15.ipynb",
      "version": "0.3.2",
      "provenance": [],
      "collapsed_sections": [],
      "include_colab_link": true
    },
    "kernelspec": {
      "name": "python3",
      "display_name": "Python 3"
    }
  },
  "cells": [
    {
      "cell_type": "markdown",
      "metadata": {
        "id": "view-in-github",
        "colab_type": "text"
      },
      "source": [
        "[View in Colaboratory](https://colab.research.google.com/github/ditiansm2015/Smart_Joules_Energy_Conservation/blob/master/Final_assignment.ipynb)"
      ]
    },
    {
      "metadata": {
        "id": "qlA3iyC3Sh1n",
        "colab_type": "code",
        "colab": {}
      },
      "cell_type": "code",
      "source": [
        "import sklearn\n",
        "import pandas as pd\n",
        "import numpy as np\n",
        "from sklearn import datasets\n",
        "from sklearn.model_selection import train_test_split \n",
        "import matplotlib.pyplot as plt\n",
        "import seaborn as sns"
      ],
      "execution_count": 0,
      "outputs": []
    },
    {
      "metadata": {
        "id": "SfcbaB7npgz1",
        "colab_type": "text"
      },
      "cell_type": "markdown",
      "source": [
        "# Part A"
      ]
    },
    {
      "metadata": {
        "id": "alR2UJ-iSkrW",
        "colab_type": "code",
        "colab": {
          "base_uri": "https://localhost:8080/",
          "height": 195
        },
        "outputId": "6ce7c994-fb68-4a96-de7e-bc55dfef995e"
      },
      "cell_type": "code",
      "source": [
        "df=pd.read_csv(\"https://raw.githubusercontent.com/ditiansm2015/Smart_Joules_Energy_Conservation/master/LaborRoom_EM.csv\")\n",
        "df.head()"
      ],
      "execution_count": 190,
      "outputs": [
        {
          "output_type": "execute_result",
          "data": {
            "text/html": [
              "<div>\n",
              "<style scoped>\n",
              "    .dataframe tbody tr th:only-of-type {\n",
              "        vertical-align: middle;\n",
              "    }\n",
              "\n",
              "    .dataframe tbody tr th {\n",
              "        vertical-align: top;\n",
              "    }\n",
              "\n",
              "    .dataframe thead th {\n",
              "        text-align: right;\n",
              "    }\n",
              "</style>\n",
              "<table border=\"1\" class=\"dataframe\">\n",
              "  <thead>\n",
              "    <tr style=\"text-align: right;\">\n",
              "      <th></th>\n",
              "      <th>timestamp</th>\n",
              "      <th>KW</th>\n",
              "      <th>PF</th>\n",
              "      <th>KVA</th>\n",
              "    </tr>\n",
              "  </thead>\n",
              "  <tbody>\n",
              "    <tr>\n",
              "      <th>0</th>\n",
              "      <td>01-05-2018 00:00</td>\n",
              "      <td>0.0</td>\n",
              "      <td>1.0</td>\n",
              "      <td>0.0</td>\n",
              "    </tr>\n",
              "    <tr>\n",
              "      <th>1</th>\n",
              "      <td>01-05-2018 00:01</td>\n",
              "      <td>0.0</td>\n",
              "      <td>1.0</td>\n",
              "      <td>0.0</td>\n",
              "    </tr>\n",
              "    <tr>\n",
              "      <th>2</th>\n",
              "      <td>01-05-2018 00:02</td>\n",
              "      <td>0.0</td>\n",
              "      <td>1.0</td>\n",
              "      <td>0.0</td>\n",
              "    </tr>\n",
              "    <tr>\n",
              "      <th>3</th>\n",
              "      <td>01-05-2018 00:03</td>\n",
              "      <td>0.0</td>\n",
              "      <td>1.0</td>\n",
              "      <td>0.0</td>\n",
              "    </tr>\n",
              "    <tr>\n",
              "      <th>4</th>\n",
              "      <td>01-05-2018 00:04</td>\n",
              "      <td>0.0</td>\n",
              "      <td>1.0</td>\n",
              "      <td>0.0</td>\n",
              "    </tr>\n",
              "  </tbody>\n",
              "</table>\n",
              "</div>"
            ],
            "text/plain": [
              "          timestamp   KW   PF  KVA\n",
              "0  01-05-2018 00:00  0.0  1.0  0.0\n",
              "1  01-05-2018 00:01  0.0  1.0  0.0\n",
              "2  01-05-2018 00:02  0.0  1.0  0.0\n",
              "3  01-05-2018 00:03  0.0  1.0  0.0\n",
              "4  01-05-2018 00:04  0.0  1.0  0.0"
            ]
          },
          "metadata": {
            "tags": []
          },
          "execution_count": 190
        }
      ]
    },
    {
      "metadata": {
        "id": "UUqHZHdBSnv7",
        "colab_type": "code",
        "colab": {
          "base_uri": "https://localhost:8080/",
          "height": 34
        },
        "outputId": "8578200f-2aba-4e8f-ecf4-849756557823"
      },
      "cell_type": "code",
      "source": [
        "df['energy consumed']=(df[\"KW\"]*60)/1000\n",
        "df['label']=\"Labor Room\"\n",
        "df.shape"
      ],
      "execution_count": 191,
      "outputs": [
        {
          "output_type": "execute_result",
          "data": {
            "text/plain": [
              "(85127, 6)"
            ]
          },
          "metadata": {
            "tags": []
          },
          "execution_count": 191
        }
      ]
    },
    {
      "metadata": {
        "id": "4pzIwB5nTWV2",
        "colab_type": "code",
        "colab": {
          "base_uri": "https://localhost:8080/",
          "height": 195
        },
        "outputId": "5b8106ff-1997-442b-c0fb-d8c031407c77"
      },
      "cell_type": "code",
      "source": [
        "df2=pd.read_csv(\"https://raw.githubusercontent.com/ditiansm2015/Smart_Joules_Energy_Conservation/master/Library_EnergyMeter.csv\")\n",
        "df2.head()"
      ],
      "execution_count": 192,
      "outputs": [
        {
          "output_type": "execute_result",
          "data": {
            "text/html": [
              "<div>\n",
              "<style scoped>\n",
              "    .dataframe tbody tr th:only-of-type {\n",
              "        vertical-align: middle;\n",
              "    }\n",
              "\n",
              "    .dataframe tbody tr th {\n",
              "        vertical-align: top;\n",
              "    }\n",
              "\n",
              "    .dataframe thead th {\n",
              "        text-align: right;\n",
              "    }\n",
              "</style>\n",
              "<table border=\"1\" class=\"dataframe\">\n",
              "  <thead>\n",
              "    <tr style=\"text-align: right;\">\n",
              "      <th></th>\n",
              "      <th>timestamp</th>\n",
              "      <th>KW</th>\n",
              "      <th>PF</th>\n",
              "      <th>KVA</th>\n",
              "    </tr>\n",
              "  </thead>\n",
              "  <tbody>\n",
              "    <tr>\n",
              "      <th>0</th>\n",
              "      <td>01-05-2018 00:00</td>\n",
              "      <td>0.0</td>\n",
              "      <td>1.0</td>\n",
              "      <td>0.0</td>\n",
              "    </tr>\n",
              "    <tr>\n",
              "      <th>1</th>\n",
              "      <td>01-05-2018 00:01</td>\n",
              "      <td>0.0</td>\n",
              "      <td>1.0</td>\n",
              "      <td>0.0</td>\n",
              "    </tr>\n",
              "    <tr>\n",
              "      <th>2</th>\n",
              "      <td>01-05-2018 00:02</td>\n",
              "      <td>0.0</td>\n",
              "      <td>1.0</td>\n",
              "      <td>0.0</td>\n",
              "    </tr>\n",
              "    <tr>\n",
              "      <th>3</th>\n",
              "      <td>01-05-2018 00:03</td>\n",
              "      <td>0.0</td>\n",
              "      <td>1.0</td>\n",
              "      <td>0.0</td>\n",
              "    </tr>\n",
              "    <tr>\n",
              "      <th>4</th>\n",
              "      <td>01-05-2018 00:04</td>\n",
              "      <td>0.0</td>\n",
              "      <td>1.0</td>\n",
              "      <td>0.0</td>\n",
              "    </tr>\n",
              "  </tbody>\n",
              "</table>\n",
              "</div>"
            ],
            "text/plain": [
              "          timestamp   KW   PF  KVA\n",
              "0  01-05-2018 00:00  0.0  1.0  0.0\n",
              "1  01-05-2018 00:01  0.0  1.0  0.0\n",
              "2  01-05-2018 00:02  0.0  1.0  0.0\n",
              "3  01-05-2018 00:03  0.0  1.0  0.0\n",
              "4  01-05-2018 00:04  0.0  1.0  0.0"
            ]
          },
          "metadata": {
            "tags": []
          },
          "execution_count": 192
        }
      ]
    },
    {
      "metadata": {
        "id": "lCE1PIDGTFZ7",
        "colab_type": "code",
        "colab": {
          "base_uri": "https://localhost:8080/",
          "height": 195
        },
        "outputId": "7a52288b-8b5b-4838-f01f-53733b72932e"
      },
      "cell_type": "code",
      "source": [
        "df2['energy consumed']=(df2[\"KW\"]*60)/1000\n",
        "df2['label']=\"Library\"\n",
        "df2.head()"
      ],
      "execution_count": 193,
      "outputs": [
        {
          "output_type": "execute_result",
          "data": {
            "text/html": [
              "<div>\n",
              "<style scoped>\n",
              "    .dataframe tbody tr th:only-of-type {\n",
              "        vertical-align: middle;\n",
              "    }\n",
              "\n",
              "    .dataframe tbody tr th {\n",
              "        vertical-align: top;\n",
              "    }\n",
              "\n",
              "    .dataframe thead th {\n",
              "        text-align: right;\n",
              "    }\n",
              "</style>\n",
              "<table border=\"1\" class=\"dataframe\">\n",
              "  <thead>\n",
              "    <tr style=\"text-align: right;\">\n",
              "      <th></th>\n",
              "      <th>timestamp</th>\n",
              "      <th>KW</th>\n",
              "      <th>PF</th>\n",
              "      <th>KVA</th>\n",
              "      <th>energy consumed</th>\n",
              "      <th>label</th>\n",
              "    </tr>\n",
              "  </thead>\n",
              "  <tbody>\n",
              "    <tr>\n",
              "      <th>0</th>\n",
              "      <td>01-05-2018 00:00</td>\n",
              "      <td>0.0</td>\n",
              "      <td>1.0</td>\n",
              "      <td>0.0</td>\n",
              "      <td>0.0</td>\n",
              "      <td>Library</td>\n",
              "    </tr>\n",
              "    <tr>\n",
              "      <th>1</th>\n",
              "      <td>01-05-2018 00:01</td>\n",
              "      <td>0.0</td>\n",
              "      <td>1.0</td>\n",
              "      <td>0.0</td>\n",
              "      <td>0.0</td>\n",
              "      <td>Library</td>\n",
              "    </tr>\n",
              "    <tr>\n",
              "      <th>2</th>\n",
              "      <td>01-05-2018 00:02</td>\n",
              "      <td>0.0</td>\n",
              "      <td>1.0</td>\n",
              "      <td>0.0</td>\n",
              "      <td>0.0</td>\n",
              "      <td>Library</td>\n",
              "    </tr>\n",
              "    <tr>\n",
              "      <th>3</th>\n",
              "      <td>01-05-2018 00:03</td>\n",
              "      <td>0.0</td>\n",
              "      <td>1.0</td>\n",
              "      <td>0.0</td>\n",
              "      <td>0.0</td>\n",
              "      <td>Library</td>\n",
              "    </tr>\n",
              "    <tr>\n",
              "      <th>4</th>\n",
              "      <td>01-05-2018 00:04</td>\n",
              "      <td>0.0</td>\n",
              "      <td>1.0</td>\n",
              "      <td>0.0</td>\n",
              "      <td>0.0</td>\n",
              "      <td>Library</td>\n",
              "    </tr>\n",
              "  </tbody>\n",
              "</table>\n",
              "</div>"
            ],
            "text/plain": [
              "          timestamp   KW   PF  KVA  energy consumed    label\n",
              "0  01-05-2018 00:00  0.0  1.0  0.0              0.0  Library\n",
              "1  01-05-2018 00:01  0.0  1.0  0.0              0.0  Library\n",
              "2  01-05-2018 00:02  0.0  1.0  0.0              0.0  Library\n",
              "3  01-05-2018 00:03  0.0  1.0  0.0              0.0  Library\n",
              "4  01-05-2018 00:04  0.0  1.0  0.0              0.0  Library"
            ]
          },
          "metadata": {
            "tags": []
          },
          "execution_count": 193
        }
      ]
    },
    {
      "metadata": {
        "id": "e3tvOV-lS3lE",
        "colab_type": "code",
        "colab": {
          "base_uri": "https://localhost:8080/",
          "height": 195
        },
        "outputId": "a4e57afd-941d-4843-a816-0ff99758071f"
      },
      "cell_type": "code",
      "source": [
        "df3=pd.read_csv(\"https://raw.githubusercontent.com/ditiansm2015/Smart_Joules_Energy_Conservation/master/PHDU_Em.csv\")\n",
        "df3.head()"
      ],
      "execution_count": 194,
      "outputs": [
        {
          "output_type": "execute_result",
          "data": {
            "text/html": [
              "<div>\n",
              "<style scoped>\n",
              "    .dataframe tbody tr th:only-of-type {\n",
              "        vertical-align: middle;\n",
              "    }\n",
              "\n",
              "    .dataframe tbody tr th {\n",
              "        vertical-align: top;\n",
              "    }\n",
              "\n",
              "    .dataframe thead th {\n",
              "        text-align: right;\n",
              "    }\n",
              "</style>\n",
              "<table border=\"1\" class=\"dataframe\">\n",
              "  <thead>\n",
              "    <tr style=\"text-align: right;\">\n",
              "      <th></th>\n",
              "      <th>timestamp</th>\n",
              "      <th>KW</th>\n",
              "      <th>PF</th>\n",
              "      <th>KVA</th>\n",
              "    </tr>\n",
              "  </thead>\n",
              "  <tbody>\n",
              "    <tr>\n",
              "      <th>0</th>\n",
              "      <td>2018-05-01 00:00:32</td>\n",
              "      <td>0.0</td>\n",
              "      <td>1.0</td>\n",
              "      <td>0.0</td>\n",
              "    </tr>\n",
              "    <tr>\n",
              "      <th>1</th>\n",
              "      <td>2018-05-01 00:01:32</td>\n",
              "      <td>0.0</td>\n",
              "      <td>1.0</td>\n",
              "      <td>0.0</td>\n",
              "    </tr>\n",
              "    <tr>\n",
              "      <th>2</th>\n",
              "      <td>2018-05-01 00:02:32</td>\n",
              "      <td>0.0</td>\n",
              "      <td>1.0</td>\n",
              "      <td>0.0</td>\n",
              "    </tr>\n",
              "    <tr>\n",
              "      <th>3</th>\n",
              "      <td>2018-05-01 00:03:32</td>\n",
              "      <td>0.0</td>\n",
              "      <td>1.0</td>\n",
              "      <td>0.0</td>\n",
              "    </tr>\n",
              "    <tr>\n",
              "      <th>4</th>\n",
              "      <td>2018-05-01 00:04:34</td>\n",
              "      <td>0.0</td>\n",
              "      <td>1.0</td>\n",
              "      <td>0.0</td>\n",
              "    </tr>\n",
              "  </tbody>\n",
              "</table>\n",
              "</div>"
            ],
            "text/plain": [
              "             timestamp   KW   PF  KVA\n",
              "0  2018-05-01 00:00:32  0.0  1.0  0.0\n",
              "1  2018-05-01 00:01:32  0.0  1.0  0.0\n",
              "2  2018-05-01 00:02:32  0.0  1.0  0.0\n",
              "3  2018-05-01 00:03:32  0.0  1.0  0.0\n",
              "4  2018-05-01 00:04:34  0.0  1.0  0.0"
            ]
          },
          "metadata": {
            "tags": []
          },
          "execution_count": 194
        }
      ]
    },
    {
      "metadata": {
        "id": "_-wZfXS-UI9b",
        "colab_type": "code",
        "colab": {
          "base_uri": "https://localhost:8080/",
          "height": 195
        },
        "outputId": "5a6a84be-fb28-4904-c2e3-e19559ed1648"
      },
      "cell_type": "code",
      "source": [
        "df3['energy consumed']=(df3[\"KW\"]*60)/1000\n",
        "df3['label']=\"PHDU\"\n",
        "df3.head()"
      ],
      "execution_count": 195,
      "outputs": [
        {
          "output_type": "execute_result",
          "data": {
            "text/html": [
              "<div>\n",
              "<style scoped>\n",
              "    .dataframe tbody tr th:only-of-type {\n",
              "        vertical-align: middle;\n",
              "    }\n",
              "\n",
              "    .dataframe tbody tr th {\n",
              "        vertical-align: top;\n",
              "    }\n",
              "\n",
              "    .dataframe thead th {\n",
              "        text-align: right;\n",
              "    }\n",
              "</style>\n",
              "<table border=\"1\" class=\"dataframe\">\n",
              "  <thead>\n",
              "    <tr style=\"text-align: right;\">\n",
              "      <th></th>\n",
              "      <th>timestamp</th>\n",
              "      <th>KW</th>\n",
              "      <th>PF</th>\n",
              "      <th>KVA</th>\n",
              "      <th>energy consumed</th>\n",
              "      <th>label</th>\n",
              "    </tr>\n",
              "  </thead>\n",
              "  <tbody>\n",
              "    <tr>\n",
              "      <th>0</th>\n",
              "      <td>2018-05-01 00:00:32</td>\n",
              "      <td>0.0</td>\n",
              "      <td>1.0</td>\n",
              "      <td>0.0</td>\n",
              "      <td>0.0</td>\n",
              "      <td>PHDU</td>\n",
              "    </tr>\n",
              "    <tr>\n",
              "      <th>1</th>\n",
              "      <td>2018-05-01 00:01:32</td>\n",
              "      <td>0.0</td>\n",
              "      <td>1.0</td>\n",
              "      <td>0.0</td>\n",
              "      <td>0.0</td>\n",
              "      <td>PHDU</td>\n",
              "    </tr>\n",
              "    <tr>\n",
              "      <th>2</th>\n",
              "      <td>2018-05-01 00:02:32</td>\n",
              "      <td>0.0</td>\n",
              "      <td>1.0</td>\n",
              "      <td>0.0</td>\n",
              "      <td>0.0</td>\n",
              "      <td>PHDU</td>\n",
              "    </tr>\n",
              "    <tr>\n",
              "      <th>3</th>\n",
              "      <td>2018-05-01 00:03:32</td>\n",
              "      <td>0.0</td>\n",
              "      <td>1.0</td>\n",
              "      <td>0.0</td>\n",
              "      <td>0.0</td>\n",
              "      <td>PHDU</td>\n",
              "    </tr>\n",
              "    <tr>\n",
              "      <th>4</th>\n",
              "      <td>2018-05-01 00:04:34</td>\n",
              "      <td>0.0</td>\n",
              "      <td>1.0</td>\n",
              "      <td>0.0</td>\n",
              "      <td>0.0</td>\n",
              "      <td>PHDU</td>\n",
              "    </tr>\n",
              "  </tbody>\n",
              "</table>\n",
              "</div>"
            ],
            "text/plain": [
              "             timestamp   KW   PF  KVA  energy consumed label\n",
              "0  2018-05-01 00:00:32  0.0  1.0  0.0              0.0  PHDU\n",
              "1  2018-05-01 00:01:32  0.0  1.0  0.0              0.0  PHDU\n",
              "2  2018-05-01 00:02:32  0.0  1.0  0.0              0.0  PHDU\n",
              "3  2018-05-01 00:03:32  0.0  1.0  0.0              0.0  PHDU\n",
              "4  2018-05-01 00:04:34  0.0  1.0  0.0              0.0  PHDU"
            ]
          },
          "metadata": {
            "tags": []
          },
          "execution_count": 195
        }
      ]
    },
    {
      "metadata": {
        "id": "IGIVh4CHUS7q",
        "colab_type": "code",
        "colab": {
          "base_uri": "https://localhost:8080/",
          "height": 195
        },
        "outputId": "2d2d1578-cd6d-4abd-bb7e-92088b92442a"
      },
      "cell_type": "code",
      "source": [
        "df4=pd.read_csv(\"https://raw.githubusercontent.com/ditiansm2015/Smart_Joules_Energy_Conservation/master/RFMold_EM.csv\")\n",
        "df4.head()"
      ],
      "execution_count": 196,
      "outputs": [
        {
          "output_type": "execute_result",
          "data": {
            "text/html": [
              "<div>\n",
              "<style scoped>\n",
              "    .dataframe tbody tr th:only-of-type {\n",
              "        vertical-align: middle;\n",
              "    }\n",
              "\n",
              "    .dataframe tbody tr th {\n",
              "        vertical-align: top;\n",
              "    }\n",
              "\n",
              "    .dataframe thead th {\n",
              "        text-align: right;\n",
              "    }\n",
              "</style>\n",
              "<table border=\"1\" class=\"dataframe\">\n",
              "  <thead>\n",
              "    <tr style=\"text-align: right;\">\n",
              "      <th></th>\n",
              "      <th>timestamp</th>\n",
              "      <th>KW</th>\n",
              "      <th>PF</th>\n",
              "      <th>KVA</th>\n",
              "    </tr>\n",
              "  </thead>\n",
              "  <tbody>\n",
              "    <tr>\n",
              "      <th>0</th>\n",
              "      <td>01-05-2018 00:00</td>\n",
              "      <td>0.0</td>\n",
              "      <td>1.0</td>\n",
              "      <td>0.0</td>\n",
              "    </tr>\n",
              "    <tr>\n",
              "      <th>1</th>\n",
              "      <td>01-05-2018 00:01</td>\n",
              "      <td>0.0</td>\n",
              "      <td>1.0</td>\n",
              "      <td>0.0</td>\n",
              "    </tr>\n",
              "    <tr>\n",
              "      <th>2</th>\n",
              "      <td>01-05-2018 00:02</td>\n",
              "      <td>0.0</td>\n",
              "      <td>1.0</td>\n",
              "      <td>0.0</td>\n",
              "    </tr>\n",
              "    <tr>\n",
              "      <th>3</th>\n",
              "      <td>01-05-2018 00:03</td>\n",
              "      <td>0.0</td>\n",
              "      <td>1.0</td>\n",
              "      <td>0.0</td>\n",
              "    </tr>\n",
              "    <tr>\n",
              "      <th>4</th>\n",
              "      <td>01-05-2018 00:04</td>\n",
              "      <td>0.0</td>\n",
              "      <td>1.0</td>\n",
              "      <td>0.0</td>\n",
              "    </tr>\n",
              "  </tbody>\n",
              "</table>\n",
              "</div>"
            ],
            "text/plain": [
              "          timestamp   KW   PF  KVA\n",
              "0  01-05-2018 00:00  0.0  1.0  0.0\n",
              "1  01-05-2018 00:01  0.0  1.0  0.0\n",
              "2  01-05-2018 00:02  0.0  1.0  0.0\n",
              "3  01-05-2018 00:03  0.0  1.0  0.0\n",
              "4  01-05-2018 00:04  0.0  1.0  0.0"
            ]
          },
          "metadata": {
            "tags": []
          },
          "execution_count": 196
        }
      ]
    },
    {
      "metadata": {
        "id": "k7V1IwvvUdmw",
        "colab_type": "code",
        "colab": {
          "base_uri": "https://localhost:8080/",
          "height": 195
        },
        "outputId": "d2dcea3c-24a0-4d51-9e97-035de654e68f"
      },
      "cell_type": "code",
      "source": [
        "df4['energy consumed']=(df4[\"KW\"]*60)/1000\n",
        "df4['label']=\"RFMold\"\n",
        "df4.head()"
      ],
      "execution_count": 197,
      "outputs": [
        {
          "output_type": "execute_result",
          "data": {
            "text/html": [
              "<div>\n",
              "<style scoped>\n",
              "    .dataframe tbody tr th:only-of-type {\n",
              "        vertical-align: middle;\n",
              "    }\n",
              "\n",
              "    .dataframe tbody tr th {\n",
              "        vertical-align: top;\n",
              "    }\n",
              "\n",
              "    .dataframe thead th {\n",
              "        text-align: right;\n",
              "    }\n",
              "</style>\n",
              "<table border=\"1\" class=\"dataframe\">\n",
              "  <thead>\n",
              "    <tr style=\"text-align: right;\">\n",
              "      <th></th>\n",
              "      <th>timestamp</th>\n",
              "      <th>KW</th>\n",
              "      <th>PF</th>\n",
              "      <th>KVA</th>\n",
              "      <th>energy consumed</th>\n",
              "      <th>label</th>\n",
              "    </tr>\n",
              "  </thead>\n",
              "  <tbody>\n",
              "    <tr>\n",
              "      <th>0</th>\n",
              "      <td>01-05-2018 00:00</td>\n",
              "      <td>0.0</td>\n",
              "      <td>1.0</td>\n",
              "      <td>0.0</td>\n",
              "      <td>0.0</td>\n",
              "      <td>RFMold</td>\n",
              "    </tr>\n",
              "    <tr>\n",
              "      <th>1</th>\n",
              "      <td>01-05-2018 00:01</td>\n",
              "      <td>0.0</td>\n",
              "      <td>1.0</td>\n",
              "      <td>0.0</td>\n",
              "      <td>0.0</td>\n",
              "      <td>RFMold</td>\n",
              "    </tr>\n",
              "    <tr>\n",
              "      <th>2</th>\n",
              "      <td>01-05-2018 00:02</td>\n",
              "      <td>0.0</td>\n",
              "      <td>1.0</td>\n",
              "      <td>0.0</td>\n",
              "      <td>0.0</td>\n",
              "      <td>RFMold</td>\n",
              "    </tr>\n",
              "    <tr>\n",
              "      <th>3</th>\n",
              "      <td>01-05-2018 00:03</td>\n",
              "      <td>0.0</td>\n",
              "      <td>1.0</td>\n",
              "      <td>0.0</td>\n",
              "      <td>0.0</td>\n",
              "      <td>RFMold</td>\n",
              "    </tr>\n",
              "    <tr>\n",
              "      <th>4</th>\n",
              "      <td>01-05-2018 00:04</td>\n",
              "      <td>0.0</td>\n",
              "      <td>1.0</td>\n",
              "      <td>0.0</td>\n",
              "      <td>0.0</td>\n",
              "      <td>RFMold</td>\n",
              "    </tr>\n",
              "  </tbody>\n",
              "</table>\n",
              "</div>"
            ],
            "text/plain": [
              "          timestamp   KW   PF  KVA  energy consumed   label\n",
              "0  01-05-2018 00:00  0.0  1.0  0.0              0.0  RFMold\n",
              "1  01-05-2018 00:01  0.0  1.0  0.0              0.0  RFMold\n",
              "2  01-05-2018 00:02  0.0  1.0  0.0              0.0  RFMold\n",
              "3  01-05-2018 00:03  0.0  1.0  0.0              0.0  RFMold\n",
              "4  01-05-2018 00:04  0.0  1.0  0.0              0.0  RFMold"
            ]
          },
          "metadata": {
            "tags": []
          },
          "execution_count": 197
        }
      ]
    },
    {
      "metadata": {
        "id": "7sr-MLztVkem",
        "colab_type": "text"
      },
      "cell_type": "markdown",
      "source": [
        "### combining all the classes into a single dataset"
      ]
    },
    {
      "metadata": {
        "id": "4FGMlc5FXreo",
        "colab_type": "code",
        "colab": {}
      },
      "cell_type": "code",
      "source": [
        "frames = [df, df2, df3,df4]\n",
        "df_final = pd.concat(frames)"
      ],
      "execution_count": 0,
      "outputs": []
    },
    {
      "metadata": {
        "id": "hnDmimqdVdgg",
        "colab_type": "code",
        "colab": {
          "base_uri": "https://localhost:8080/",
          "height": 34
        },
        "outputId": "d34966ff-2e52-4a0b-f0a4-2b10a6525c9b"
      },
      "cell_type": "code",
      "source": [
        "df_final.shape"
      ],
      "execution_count": 199,
      "outputs": [
        {
          "output_type": "execute_result",
          "data": {
            "text/plain": [
              "(313391, 6)"
            ]
          },
          "metadata": {
            "tags": []
          },
          "execution_count": 199
        }
      ]
    },
    {
      "metadata": {
        "id": "UMdMBr0Pc6uG",
        "colab_type": "code",
        "colab": {}
      },
      "cell_type": "code",
      "source": [
        "from sklearn.preprocessing import LabelEncoder \n",
        "label_encoder = LabelEncoder()\n",
        "\n",
        "df_final['energy_consumed'] = label_encoder.fit_transform(df_final['energy consumed'])\n",
        "df_final['label_encode'] = label_encoder.fit_transform(df_final['label'])\n",
        "df_final['timestamp_encode'] = label_encoder.fit_transform(df_final['timestamp'])\n"
      ],
      "execution_count": 0,
      "outputs": []
    },
    {
      "metadata": {
        "id": "KuNCmSqWnRtk",
        "colab_type": "text"
      },
      "cell_type": "markdown",
      "source": [
        "### Plotting graph between region and enery consumed by the region"
      ]
    },
    {
      "metadata": {
        "id": "pmqf52LRauU4",
        "colab_type": "code",
        "colab": {
          "base_uri": "https://localhost:8080/",
          "height": 378
        },
        "outputId": "11e8f7ec-b702-4f1f-9a02-8a76a6994abd"
      },
      "cell_type": "code",
      "source": [
        "sns.regplot(x= 'label_encode',y='energy_consumed',data = df_final , x_jitter=0.1, scatter_kws={'alpha':0.2},color='#F72F41')"
      ],
      "execution_count": 201,
      "outputs": [
        {
          "output_type": "execute_result",
          "data": {
            "text/plain": [
              "<matplotlib.axes._subplots.AxesSubplot at 0x7f04bcf5bf28>"
            ]
          },
          "metadata": {
            "tags": []
          },
          "execution_count": 201
        },
        {
          "output_type": "display_data",
          "data": {
            "image/png": "[encoded data removed]",
            "text/plain": [
              "<matplotlib.figure.Figure at 0x7f04be5af0b8>"
            ]
          },
          "metadata": {
            "tags": []
          }
        }
      ]
    },
    {
      "metadata": {
        "id": "Y942EWSthZqT",
        "colab_type": "text"
      },
      "cell_type": "markdown",
      "source": [
        "### Applying logistic regression"
      ]
    },
    {
      "metadata": {
        "id": "RPArtpNihjZY",
        "colab_type": "code",
        "colab": {}
      },
      "cell_type": "code",
      "source": [
        "from sklearn.linear_model import LogisticRegression"
      ],
      "execution_count": 0,
      "outputs": []
    },
    {
      "metadata": {
        "id": "7hqoopREhj1K",
        "colab_type": "code",
        "colab": {}
      },
      "cell_type": "code",
      "source": [
        "reg = LogisticRegression()"
      ],
      "execution_count": 0,
      "outputs": []
    },
    {
      "metadata": {
        "id": "tW_8j3hCho_Z",
        "colab_type": "code",
        "colab": {
          "base_uri": "https://localhost:8080/",
          "height": 84
        },
        "outputId": "127dd232-263d-4052-8015-0e237b4fe44c"
      },
      "cell_type": "code",
      "source": [
        "reg.fit(x_train, y_train)"
      ],
      "execution_count": 204,
      "outputs": [
        {
          "output_type": "execute_result",
          "data": {
            "text/plain": [
              "LogisticRegression(C=1.0, class_weight=None, dual=False, fit_intercept=True,\n",
              "          intercept_scaling=1, max_iter=100, multi_class='ovr', n_jobs=1,\n",
              "          penalty='l2', random_state=None, solver='liblinear', tol=0.0001,\n",
              "          verbose=0, warm_start=False)"
            ]
          },
          "metadata": {
            "tags": []
          },
          "execution_count": 204
        }
      ]
    },
    {
      "metadata": {
        "id": "btL9veE9hqY-",
        "colab_type": "code",
        "colab": {}
      },
      "cell_type": "code",
      "source": [
        "predict_op=reg.predict(x_test)"
      ],
      "execution_count": 0,
      "outputs": []
    },
    {
      "metadata": {
        "id": "RGmewY-Bhry-",
        "colab_type": "code",
        "colab": {
          "base_uri": "https://localhost:8080/",
          "height": 34
        },
        "outputId": "b85e1524-2b70-4df9-b734-1d7a36501eb3"
      },
      "cell_type": "code",
      "source": [
        "score = reg.score(x_test, y_test)\n",
        "print(score)"
      ],
      "execution_count": 206,
      "outputs": [
        {
          "output_type": "stream",
          "text": [
            "0.6070646046501734\n"
          ],
          "name": "stdout"
        }
      ]
    },
    {
      "metadata": {
        "id": "ISCc0IHlleZc",
        "colab_type": "text"
      },
      "cell_type": "markdown",
      "source": [
        "### Applying cross validation on Logistic Regression"
      ]
    },
    {
      "metadata": {
        "id": "QTeimew3htc2",
        "colab_type": "code",
        "colab": {}
      },
      "cell_type": "code",
      "source": [
        "# importing cross_val_score to perform cross validation\n",
        "from sklearn.model_selection import cross_val_score"
      ],
      "execution_count": 0,
      "outputs": []
    },
    {
      "metadata": {
        "id": "jivu2XrhaoZh",
        "colab_type": "code",
        "colab": {
          "base_uri": "https://localhost:8080/",
          "height": 168
        },
        "outputId": "ba523f8e-a62a-4843-c0df-08e92548beff"
      },
      "cell_type": "code",
      "source": [
        "scores = cross_val_score(reg, X,y, cv=50)\n",
        "print(scores)"
      ],
      "execution_count": 208,
      "outputs": [
        {
          "output_type": "stream",
          "text": [
            "[0.615311   0.60940989 0.48484848 0.51212121 0.69138756 0.58165869\n",
            " 0.47703349 0.43301435 0.58452951 0.58829159 0.65624502 0.59875558\n",
            " 0.61901723 0.56238034 0.57705807 0.54195916 0.55169113 0.55695597\n",
            " 0.61263561 0.66847479 0.58168475 0.7003829  0.69687301 0.62156988\n",
            " 0.70532865 0.64087428 0.64390555 0.66379448 0.59629807 0.61496729\n",
            " 0.56294878 0.64640179 0.6280517  0.51858944 0.61480772 0.56151269\n",
            " 0.66411361 0.63794479 0.67879368 0.60762725 0.58082017 0.60986118\n",
            " 0.65581618 0.6355513  0.69135014 0.72247048 0.69869135 0.66804979\n",
            " 0.6418768  0.60437281]\n"
          ],
          "name": "stdout"
        }
      ]
    },
    {
      "metadata": {
        "id": "Sm6B72F20-vF",
        "colab_type": "text"
      },
      "cell_type": "markdown",
      "source": [
        "# Part B"
      ]
    },
    {
      "metadata": {
        "id": "hMfAvt1dCUbf",
        "colab_type": "code",
        "colab": {}
      },
      "cell_type": "code",
      "source": [
        "df5=pd.read_csv(\"https://raw.githubusercontent.com/ditiansm2015/Smart_Joules_Energy_Conservation/master/LaborRoom.csv\")"
      ],
      "execution_count": 0,
      "outputs": []
    },
    {
      "metadata": {
        "id": "aU_so1KEORB3",
        "colab_type": "code",
        "colab": {
          "base_uri": "https://localhost:8080/",
          "height": 195
        },
        "outputId": "3f0604ea-a639-4a12-81fc-1808eb1ef279"
      },
      "cell_type": "code",
      "source": [
        "df5.head()"
      ],
      "execution_count": 244,
      "outputs": [
        {
          "output_type": "execute_result",
          "data": {
            "text/html": [
              "<div>\n",
              "<style scoped>\n",
              "    .dataframe tbody tr th:only-of-type {\n",
              "        vertical-align: middle;\n",
              "    }\n",
              "\n",
              "    .dataframe tbody tr th {\n",
              "        vertical-align: top;\n",
              "    }\n",
              "\n",
              "    .dataframe thead th {\n",
              "        text-align: right;\n",
              "    }\n",
              "</style>\n",
              "<table border=\"1\" class=\"dataframe\">\n",
              "  <thead>\n",
              "    <tr style=\"text-align: right;\">\n",
              "      <th></th>\n",
              "      <th>timestamp</th>\n",
              "      <th>TMP</th>\n",
              "      <th>HUM</th>\n",
              "    </tr>\n",
              "  </thead>\n",
              "  <tbody>\n",
              "    <tr>\n",
              "      <th>0</th>\n",
              "      <td>01-05-2018 00:00</td>\n",
              "      <td>26.36</td>\n",
              "      <td>60.75</td>\n",
              "    </tr>\n",
              "    <tr>\n",
              "      <th>1</th>\n",
              "      <td>01-05-2018 00:01</td>\n",
              "      <td>26.34</td>\n",
              "      <td>60.68</td>\n",
              "    </tr>\n",
              "    <tr>\n",
              "      <th>2</th>\n",
              "      <td>01-05-2018 00:02</td>\n",
              "      <td>26.36</td>\n",
              "      <td>60.69</td>\n",
              "    </tr>\n",
              "    <tr>\n",
              "      <th>3</th>\n",
              "      <td>01-05-2018 00:03</td>\n",
              "      <td>26.31</td>\n",
              "      <td>60.76</td>\n",
              "    </tr>\n",
              "    <tr>\n",
              "      <th>4</th>\n",
              "      <td>01-05-2018 00:04</td>\n",
              "      <td>26.32</td>\n",
              "      <td>60.63</td>\n",
              "    </tr>\n",
              "  </tbody>\n",
              "</table>\n",
              "</div>"
            ],
            "text/plain": [
              "          timestamp    TMP    HUM\n",
              "0  01-05-2018 00:00  26.36  60.75\n",
              "1  01-05-2018 00:01  26.34  60.68\n",
              "2  01-05-2018 00:02  26.36  60.69\n",
              "3  01-05-2018 00:03  26.31  60.76\n",
              "4  01-05-2018 00:04  26.32  60.63"
            ]
          },
          "metadata": {
            "tags": []
          },
          "execution_count": 244
        }
      ]
    },
    {
      "metadata": {
        "id": "m8I6-iBKOkDb",
        "colab_type": "code",
        "colab": {}
      },
      "cell_type": "code",
      "source": [
        "result = pd.merge(df,\n",
        "                 df5[['timestamp', 'TMP', 'HUM']],\n",
        "                 on='timestamp')"
      ],
      "execution_count": 0,
      "outputs": []
    },
    {
      "metadata": {
        "id": "Bq5HQWvXQJ9P",
        "colab_type": "code",
        "colab": {
          "base_uri": "https://localhost:8080/",
          "height": 34
        },
        "outputId": "622386b5-bef3-4b22-c262-869a2fa73d9b"
      },
      "cell_type": "code",
      "source": [
        "result.shape"
      ],
      "execution_count": 242,
      "outputs": [
        {
          "output_type": "execute_result",
          "data": {
            "text/plain": [
              "(82367, 8)"
            ]
          },
          "metadata": {
            "tags": []
          },
          "execution_count": 242
        }
      ]
    },
    {
      "metadata": {
        "id": "Jv5hwH-mQSG7",
        "colab_type": "code",
        "colab": {}
      },
      "cell_type": "code",
      "source": [
        ""
      ],
      "execution_count": 0,
      "outputs": []
    },
    {
      "metadata": {
        "id": "07RrpIdLQMMk",
        "colab_type": "code",
        "colab": {}
      },
      "cell_type": "code",
      "source": [
        ""
      ],
      "execution_count": 0,
      "outputs": []
    }
  ]
}